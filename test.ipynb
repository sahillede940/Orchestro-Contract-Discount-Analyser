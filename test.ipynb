{
 "cells": [
  {
   "cell_type": "code",
   "execution_count": 16,
   "metadata": {},
   "outputs": [],
   "source": [
    "# bring in our LLAMA_CLOUD_API_KEY\n",
    "from dotenv import load_dotenv\n",
    "load_dotenv()\n",
    "\n",
    "# bring in deps\n",
    "from llama_parse import LlamaParse\n",
    "from llama_index.core import SimpleDirectoryReader\n",
    "\n",
    "# set up parser\n",
    "parser = LlamaParse(\n",
    "    result_type=\"text\"  # \"markdown\" and \"text\" are available\n",
    ")\n",
    "\n",
    "# use SimpleDirectoryReader to parse our file\n",
    "file_extractor = {\".pdf\": parser}"
   ]
  },
  {
   "cell_type": "code",
   "execution_count": 5,
   "metadata": {},
   "outputs": [],
   "source": [
    "import nest_asyncio\n",
    "nest_asyncio.apply()"
   ]
  },
  {
   "cell_type": "code",
   "execution_count": 17,
   "metadata": {},
   "outputs": [
    {
     "name": "stdout",
     "output_type": "stream",
     "text": [
      "Started parsing the file under job_id ff354ee3-1ab5-4f4a-9ad6-c756ed2311ec\n"
     ]
    }
   ],
   "source": [
    "pdf = \"lamatest.pdf\"\n",
    "documents = SimpleDirectoryReader(input_files=[pdf], file_extractor=file_extractor).load_data()"
   ]
  },
  {
   "cell_type": "code",
   "execution_count": 34,
   "metadata": {},
   "outputs": [
    {
     "name": "stdout",
     "output_type": "stream",
     "text": [
      "None\n"
     ]
    }
   ],
   "source": [
    "print(documents[0].embedding)"
   ]
  },
  {
   "cell_type": "code",
   "execution_count": 19,
   "metadata": {},
   "outputs": [
    {
     "name": "stdout",
     "output_type": "stream",
     "text": [
      "Each eligible package will receive an incentive per the following schedule based on a 52 week rolling average of eligible package charges invoiced to\n",
      "customer. The band determination is based on the average published charges per week for eligible services (excluding accessorials and surcharges,\n",
      "unless otherwise specified). The incentives will be administered on a weekly basis.\n",
      "                  Service(s)                      Lane/Zone                                         Weekly Charges Bands - ($)\n",
      "\n",
      "                                                                    0.00 -        9,075.00       12,475.00      15,875.00      19,275.00      28,360.00      34,030.00\n",
      "                                                                   9,074.99      12,474.99       15,874.99      19,274.99      28,359.99      34,029.99        and up\n",
      "  UPS Next Day Air® - Letter - Prepaid                ALL           0.00%         47.60%          54.40%         61.20%         68.00%         69.00%         70.00%\n",
      "  FrtFC TP UP RS RTP\n",
      "  UPS Next Day Air® - Package - Prepaid               ALL           0.00%         47.60%          54.40%         61.20%         68.00%         69.00%         70.00%\n",
      "  FrtFC TP UP RS RTP\n",
      "  UPS Next Day Air Saver® - Letter -                  ALL           0.00%         47.60%          54.40%         61.20%         68.00%         69.00%         70.00%\n",
      "  Prepaid FrtFC TP UP\n",
      "\n",
      "                  Service(s)                      Lane/Zone                                         Weekly Charges Bands - ($)\n",
      "                                                                    0.00 -        9,075.00       12,475.00      15,875.00      19,275.00      28,360.00      34,030.00\n",
      "                                                                   9,074.99       12,474.99      15,874.99      19,274.99      28,359.99      34,029.99        and up\n",
      "  UPS Next Day Air Saver® - Package -                 ALL           0.00%         47.60%          54.40%         61.20%         68.00%         69.00%         70.00%\n",
      "  Prepaid FrtFC TP UP\n",
      "  UPS 2nd Day Air A.M.® - Commercial                  ALL           0.00%         47.60%          54.40%         61.20%         68.00%         69.00%         70.00%\n",
      "  Letter - PrepaidFC TP UP\n",
      "  Package - PrepaidFC TP ® - Commercial\n",
      "  UPS 2nd Day Air A.M.UP                              ALL           0.00%         47.60%          54.40%         61.20%         68.00%         69.00%         70.00%\n",
      "  UPS 2nd Day Air® - Letter - Prepaid                 ALL           0.00%         47.60%          54.40%         61.20%         68.00%         69.00%         70.00%\n",
      "  FrtFC TP UP RS RTP\n",
      "  UPS 2nd Day Air® - Package - Prepaid                ALL           0.00%         47.60%          54.40%         61.20%         68.00%         69.00%         70.00%\n",
      "  FrtFC TP UP RS RTP\n",
      "  UPS 3 Day Select® - Package - Prepaid               ALL           0.00%         39.20%          44.80%         50.40%         56.00%         57.00%         58.00%\n",
      "  FrtFC TP UP RS RTP\n",
      "  UPS® Ground - Commercial Package -                  ALL           0.00%          7.00%          8.00%          9.00%          10.00%         11.00%         12.00%\n",
      "  PrepaidFC TP UP RS RTP\n",
      "  UPS® Ground - Residential Package -                 ALL           0.00%          7.00%          8.00%          9.00%          10.00%         11.00%         12.00%\n",
      "  Prepaid FrtFC TP RS RTP\n",
      "  UPS® Ground - Hundredweight                         ALL           0.00%         21.70%          24.80%         27.90%         31.00%         32.00%         33.00%\n",
      "  Package - Regular PickupFC TP UP\n",
      "  UPS SurePost® - 1lb or greater                      ALL           0.00%          2.10%          2.40%          2.70%           3.00%          3.30%          3.60%\n",
      "  Residential Package - Prepaid\n",
      "  UPS SurePost® - Less than 1lb                       ALL           0.00%          2.10%          2.40%          2.70%           3.00%          3.30%          3.60%\n",
      "  Residential Package - Prepaid\n",
      "  UPS Worldwide Express® - Export -                   ALL           0.00%         10.50%          12.00%         13.50%         15.00%         16.00%         17.00%\n",
      "  Letter - PrepaidAll\n",
      "  UPS Worldwide Express® - Export                     ALL           0.00%         10.50%          12.00%         13.50%         15.00%         16.00%         17.00%\n",
      "  Document - PrepaidAll\n",
      "  UPS Worldwide Express® - Export -                   ALL           0.00%         10.50%          12.00%         13.50%         15.00%         16.00%         17.00%\n",
      "  Package - PrepaidAll\n",
      "  UPS Worldwide Express® - Export -                   ALL           0.00%         10.50%          12.00%         13.50%         15.00%         16.00%         17.00%\n",
      "  Pak - PrepaidAll\n",
      "  UPS Worldwide Saver® - Export -                     ALL           0.00%         10.50%          12.00%         13.50%         15.00%         16.00%         17.00%\n",
      "  Letter - PrepaidAll\n",
      "  Document - PrepaidAll® - Export\n",
      "  UPS Worldwide Saver                                 ALL           0.00%         10.50%          12.00%         13.50%         15.00%         16.00%         17.00%\n",
      "  UPS Worldwide Saver® - Export -                     ALL           0.00%         10.50%          12.00%         13.50%         15.00%         16.00%         17.00%\n",
      "  Package - PrepaidAll\n",
      "\n",
      "                                                                                                                                                           \\bns\\P070035703 - 01\\bne\\\n",
      "                                                                                                                                                 Addendum B Page 7 of 16\n",
      "  UPS Worldwide Saver® - Export - Pak -                ALL           0.00%          10.50%         12.00%          13.50%         15.00%          16.00%         17.00%\n",
      "  PrepaidAll\n",
      "  UPS Worldwide Export Express                         ALL           0.00%          10.50%         12.00%          13.50%         15.00%          16.00%         17.00%\n",
      "  Freight MiddayTM Pallet AllAll CL\n",
      "  UPS Worldwide Export Express                         ALL           0.00%          10.50%         12.00%          13.50%         15.00%          16.00%         17.00%\n",
      "  FreightTM Pallet AllAll CL\n",
      "  UPS Worldwide Expedited® - Export                    ALL           0.00%          10.50%         12.00%          13.50%         15.00%          16.00%         17.00%\n",
      "  Document - PrepaidAll\n",
      "  UPS Worldwide Expedited® - Export                    ALL           0.00%          10.50%         12.00%          13.50%         15.00%          16.00%         17.00%\n",
      "  Package - PrepaidAll\n",
      "  UPS® Standard to Canada - Export -                   ALL           0.00%          10.50%         12.00%          13.50%         15.00%          16.00%         17.00%\n",
      "  Package - PrepaidAll\n",
      "  UPS® Standard to Mexico - Export                     ALL           0.00%          10.50%         12.00%          13.50%         15.00%          16.00%         17.00%\n",
      "  Document - PrepaidAll\n",
      "  UPS® Standard to Mexico - Export -                   ALL           0.00%          10.50%         12.00%          13.50%         15.00%          16.00%         17.00%\n",
      "  Package - PrepaidAll\n",
      "  Letter - Freight CollectAll® - Import -\n",
      "  UPS Worldwide Express                                ALL           0.00%          10.50%         12.00%          13.50%         15.00%          15.50%         16.00%\n",
      "                   Service(s)                     Lane/Zone                                           Weekly Charges Bands - ($)\n",
      "                                                                     0.00 -         9,075.00      12,475.00       15,875.00      19,275.00       28,360.00      34,030.00\n",
      "                                                                    9,074.99       12,474.99      15,874.99       19,274.99      28,359.99       34,029.99        and up\n",
      "  UPS Worldwide Express® - Import                      ALL           0.00%          10.50%         12.00%          13.50%         15.00%          15.50%         16.00%\n",
      "  Document - Freight CollectAll\n",
      "  UPS Worldwide ExpressAll® - Import -                 ALL           0.00%          10.50%         12.00%          13.50%         15.00%          15.50%         16.00%\n",
      "  Package - Freight Collect\n",
      "  UPS Worldwide SaverAll® - Import -                   ALL           0.00%          10.50%         12.00%          13.50%         15.00%          15.50%         16.00%\n",
      "  Letter - Freight Collect\n",
      "  UPS Worldwide Saver® - Import -                      ALL           0.00%          10.50%         12.00%          13.50%         15.00%          15.50%         16.00%\n",
      "  Document - Freight CollectAll\n",
      "  UPS Worldwide Saver® - Import -                      ALL           0.00%          10.50%         12.00%          13.50%         15.00%          15.50%         16.00%\n",
      "  Package - Freight CollectAll\n",
      "  UPS Worldwide Import Express                         ALL           0.00%          10.50%         12.00%          13.50%         15.00%          15.50%         16.00%\n",
      "  Freight MiddayTM Pallet AllAll CL\n",
      "  UPS Worldwide Import Express                         ALL           0.00%          10.50%         12.00%          13.50%         15.00%          15.50%         16.00%\n",
      "  FreightTM Pallet AllAll CL\n",
      "  UPS Worldwide ExpeditedAll® - Import                 ALL           0.00%          10.50%         12.00%          13.50%         15.00%          15.50%         16.00%\n",
      "  Document - Freight Collect\n",
      "  Package - Freight CollectAll® - Import -\n",
      "  UPS Worldwide Expedited                              ALL           0.00%          10.50%         12.00%          13.50%         15.00%          15.50%         16.00%\n",
      "  UPS® Standard from Canada - Import -                 ALL           0.00%          10.50%         12.00%          13.50%         15.00%          15.50%         16.00%\n",
      "  Package - Freight CollectAll\n",
      "  UPS® Standard from Mexico - Import                   ALL           0.00%          10.50%         12.00%          13.50%         15.00%          15.50%         16.00%\n",
      "  Document - Freight CollectAll\n",
      "  UPS® Standard from Mexico - Import -                 ALL           0.00%          10.50%         12.00%          13.50%         15.00%          15.50%         16.00%\n",
      "  Package - Freight CollectAll\n",
      "Average weekly published charges per week will be based on the most recent 52 week(s) (once 52 week(s) have been accumulated) excluding the\n",
      "current billing week. Average weekly published charges per week is defined as the published charges per week from all eligible and committed services\n",
      "for the given time period divided by the number of week(s) in the time period.\n",
      "The following products will be included in determining the appropriate bands of the customer: Service(s) listed in Group(s) All Small Package Freight,\n",
      "All International Import, All UPS Ground with Freight Pricing* of the Committed Services section at the end of the Addendum B.\n",
      "\n",
      "Minimum Net Charge\n",
      "For each shipment, Customer agrees to pay the greater of the (a) net shipment charge based on the above incentives or (b) the minimum net shipment\n",
      "charge. When applicable, Minimum net shipment charge is calculated by deducting the applicable percent off (by zone) in the table below from the\n",
      "published list rate for the respective service.\n",
      "\n",
      "                                                                                                                                                             \\bns\\P070035703 - 01\\bne\\\n",
      "                                                                                                                                                    Addendum B Page 8 of 16\n"
     ]
    }
   ],
   "source": [
    "for doc in documents:\n",
    "    print(doc.text)"
   ]
  }
 ],
 "metadata": {
  "kernelspec": {
   "display_name": "venv",
   "language": "python",
   "name": "python3"
  },
  "language_info": {
   "codemirror_mode": {
    "name": "ipython",
    "version": 3
   },
   "file_extension": ".py",
   "mimetype": "text/x-python",
   "name": "python",
   "nbconvert_exporter": "python",
   "pygments_lexer": "ipython3",
   "version": "3.11.9"
  }
 },
 "nbformat": 4,
 "nbformat_minor": 2
}
